{
 "cells": [
  {
   "cell_type": "markdown",
   "id": "8130aafa",
   "metadata": {},
   "source": [
    "## Web Scraping of one article using BeautifulSoup"
   ]
  },
  {
   "cell_type": "code",
   "execution_count": 2,
   "id": "50d2f7f9",
   "metadata": {},
   "outputs": [],
   "source": [
    "#importing dependencies\n",
    "import requests\n",
    "import bs4\n",
    "from bs4 import BeautifulSoup\n",
    "import csv"
   ]
  },
  {
   "cell_type": "code",
   "execution_count": 3,
   "id": "01aaa83a",
   "metadata": {},
   "outputs": [],
   "source": [
    "url='https://economictimes.indiatimes.com/wealth/borrow/top-bad-credit-loans-for-guaranteed-approval-in-2022-get-same-day-cash-advance-loans-with-no-credit-check/articleshow/93776782.cms'"
   ]
  },
  {
   "cell_type": "code",
   "execution_count": 4,
   "id": "8830886e",
   "metadata": {},
   "outputs": [],
   "source": [
    "#A user agent is any software that retrieves and presents Web content for end users or is implemented using Web technologies. User agents include Web browsers, media players, and plug-ins that help in retrieving, rendering and interacting with Web content.\n",
    "headers={\n",
    "    'User-Agent':'Mozilla/5.0 (Macintosh; Intel Mac OS X 12_5_1) AppleWebKit/605.1.15 (KHTML, like Gecko) Version/15.6 Safari/605.1.15'\n",
    "}"
   ]
  },
  {
   "cell_type": "code",
   "execution_count": 5,
   "id": "82776ba6",
   "metadata": {},
   "outputs": [],
   "source": [
    "#you need to get source texts through headers\n",
    "r=requests.get(url, {'headers':headers})"
   ]
  },
  {
   "cell_type": "code",
   "execution_count": 6,
   "id": "2b4e492d",
   "metadata": {},
   "outputs": [],
   "source": [
    "soup=bs4.BeautifulSoup(r.text,'html.parser')"
   ]
  },
  {
   "cell_type": "code",
   "execution_count": 7,
   "id": "a23035bd",
   "metadata": {},
   "outputs": [
    {
     "data": {
      "text/plain": [
       "'Top  bad credit loans for guaranteed approval in 2022: Get same day cash advance loans with no credit check'"
      ]
     },
     "execution_count": 7,
     "metadata": {},
     "output_type": "execute_result"
    }
   ],
   "source": [
    "#get title \n",
    "soup.find('h1').text"
   ]
  },
  {
   "cell_type": "code",
   "execution_count": 8,
   "id": "23b6ed54",
   "metadata": {},
   "outputs": [
    {
     "name": "stdout",
     "output_type": "stream",
     "text": [
      "<title>Top  bad credit loans for guaranteed approval in 2022: Get same day cash advance loans with no credit check - The Economic Times</title>\n"
     ]
    }
   ],
   "source": [
    "match=soup.title\n",
    "print(match)\n",
    "#shows result with title class"
   ]
  },
  {
   "cell_type": "code",
   "execution_count": 9,
   "id": "e806b37e",
   "metadata": {},
   "outputs": [
    {
     "name": "stdout",
     "output_type": "stream",
     "text": [
      "Top  bad credit loans for guaranteed approval in 2022: Get same day cash advance loans with no credit check - The Economic Times\n"
     ]
    }
   ],
   "source": [
    "#Now we just want to get the text, without the class\n",
    "match = soup.title.text\n",
    "print(match)"
   ]
  },
  {
   "cell_type": "code",
   "execution_count": 10,
   "id": "dfd04ce9",
   "metadata": {},
   "outputs": [
    {
     "name": "stdout",
     "output_type": "stream",
     "text": [
      "<div class=\"artText\" data-brcount=\"155\">Getting a conventional loan may be a time-consuming and difficult procedure. It can be even more difficult, if not impossible, to obtain financing if you have a bad credit history or score. Most banks and credit unions may turn down your application, leaving you with few, expensive ways to borrow money.\n",
      "<br/>\n",
      "<br/>However, there are a large number of online lenders who offer emergency loans to consumers even with bad credit scores. Here are some of the top options available for obtaining a loan with bad credit from lenders with competitive rates and flexible repayment plans.\n",
      "<br/>\n",
      "<ol>\n",
      "<li><a data-ga-onclick=\"Inarticle articleshow link click#Wealth#href\" href=\"https://weloans.com/loans-for-bad-credit\" rel=\"nofollow\"></a><a data-ga-onclick=\"Inarticle articleshow link click#Wealth#href\" data-type=\"tilCustomLink\" href=\"https://weloans.com/loans-for-bad-credit?utm_source=ET&amp;utm_medium=HQ&amp;utm_campaign=top-bad-credit-loans-for-guaranteed-approval-in-2022&amp;utm_id=1\" rel=\"nofollow\" target=\"_blank\">WeLoans</a> - Excellent place to get payday loans for bad credit</li>\n",
      "<li><a data-ga-onclick=\"Inarticle articleshow link click#Wealth#href\" href=\"https://usbadcreditloans.com\" rel=\"nofollow\"></a><a data-ga-onclick=\"Inarticle articleshow link click#Wealth#href\" data-type=\"tilCustomLink\" href=\"https://usbadcreditloans.com?utm_source=ET&amp;utm_medium=HQ&amp;utm_campaign=top-bad-credit-loans-for-guaranteed-approval-in-2022&amp;utm_id=1\" rel=\"nofollow\" target=\"_blank\">US Bad Credit Loans</a>- Loans for bad credit with guaranteed approval</li>\n",
      "<li><strong>BadCreditLoans</strong> - Loans availability with no credit check</li>\n",
      "<li><strong>PersonalLoans</strong> - Low rates for poor credit loans</li>\n",
      "<li><strong>CashUSA</strong> – Get same day cash advance with no credit check</li>\n",
      "</ol>\n",
      "<br/>\n",
      "<strong>1. WeLoans - Excellent place to get bad credit loans</strong>\n",
      "<br/><div class=\"adBox custom_ad nonm mgid\" data-mgid=\"mgid_93776782\"><div class=\"colombia colombiaAd\" data-msg=\"ctnCallbackHandler\" data-position=\"93776782\" data-section=\"0\" data-slot=\"491591\" id=\"div-clmb-ctn-208630-93776782\"></div></div>\n",
      "<div class=\"midImg clearfix\" data-align=\"\" data-msid=\"93776957\" data-type=\"image\"><figure class=\"imgBg\"><img alt=\"weloans\" class=\"lazy gwt-Image\" data-msid=\"93776957\" data-original=\"https://img.etimg.com/photo/msid-93776957,quality-100/weloans.jpg\" src=\"https://img.etimg.com/photo/msid-42031747,quality-100/et-logo.jpg\" title=\"weloans\"/><span class=\"imgAgency\">ET Spotlight</span></figure><div><div class=\"imgActions flr\"><span class=\"asSprite imgZoom zoomIcon\"></span></div></div></div>\n",
      "<strong>Overview</strong>\n",
      "<br/>When you are looking specifically for a payday loan, WeLoans will do all of the homework for you and find the best available options. The site provides unsecured loans from $50 to $5,000 in a short length of time with no extensive paperwork required. Additionally, the majority of the loans offered by them are bad credit payday loans, also known as cash advance loans. The procedure for the provision of loans is carried out online. It takes only a few minutes to complete and submit the application that includes some basic information.\n",
      "<br/>\n",
      "<br/>\n",
      "<strong>Features and services offered:<br/></strong>\n",
      "<strong>Secure Data</strong>\n",
      "<br/>WeLoans is a trustworthy platform in the sense that they are not disclosing your information to anybody. So the information you supply to their website when you request for a loan is secured and safe.\n",
      "<br/>\n",
      "<br/>\n",
      "<strong>Quick Loan Funding</strong>\n",
      "<br/>You may get a payday loan online swiftly and easily with the help of reputable lenders on their website. As soon as the loan agreement is finalized by the leaders, the loan funds will be deposited into your bank account in as little as two business days.\n",
      "<br/>\n",
      "<br/>\n",
      "<strong>Reliable Lenders</strong>\n",
      "<br/>WeLoans works with reliable and trusted lenders only. These lenders can offer reasonable rates and terms, transparent application processes, and charge no hidden fee. So it would be safe to apply for loans there.\n",
      "<br/>\n",
      "<br/>\n",
      "<strong>Pros</strong>\n",
      "<ul>\n",
      "<li>Availability of bad credit loans.</li>\n",
      "<li>Quick processing times for loans and funds from lenders.</li>\n",
      "<li>There are a variety of payment options available at reasonable prices.</li>\n",
      "<li>Services are easy to get and are available around the clock.</li>\n",
      "</ul>\n",
      "<br/>\n",
      "<strong>Cons</strong>\n",
      "<br/>\n",
      "<ul>\n",
      "<li>It is not a direct lender for loans with bad credit.</li>\n",
      "<li>No more than $5,000 in loans is available.</li>\n",
      "</ul>\n",
      "<br/>\n",
      "<a data-ga-onclick=\"Inarticle articleshow link click#Wealth#href\" href=\"https://weloans.com/loans-for-bad-credit?utm_source=ET&amp;utm_medium=HQ&amp;utm_campaign=top-bad-credit-loans-for-guaranteed-approval-in-2022&amp;utm_id=1\" rel=\"nofollow\"></a>\n",
      "<a data-ga-onclick=\"Inarticle articleshow link click#Wealth#href\" data-type=\"tilCustomLink\" href=\"https://weloans.com/loans-for-bad-credit?utm_source=ET&amp;utm_medium=HQ&amp;utm_campaign=top-bad-credit-loans-for-guaranteed-approval-in-2022&amp;utm_id=1\" rel=\"nofollow\" target=\"_blank\">Visit WeLoans website to get more information about their services &gt;&gt;</a>\n",
      "<br/>\n",
      "<br/>\n",
      "<strong>2. US Bad Credit Loans - Loans for bad credit with guaranteed approval</strong>\n",
      "<br/>\n",
      "<div class=\"midImg clearfix\" data-align=\"\" data-msid=\"93776970\" data-type=\"image\"><figure class=\"imgBg\"><img alt=\"usbadcreditloans\" class=\"lazy gwt-Image\" data-msid=\"93776970\" data-original=\"https://img.etimg.com/photo/msid-93776970,quality-100/usbadcreditloans.jpg\" src=\"https://img.etimg.com/photo/msid-42031747,quality-100/et-logo.jpg\" title=\"usbadcreditloans\"/><span class=\"imgAgency\">ET Spotlight</span></figure><div><div class=\"imgActions flr\"><span class=\"asSprite imgZoom zoomIcon\"></span></div></div></div>\n",
      "<strong>Overview</strong>\n",
      "<strong><br/></strong>US Bad Credit Loans works with a wide variety of reputable American loan companies. Despite the fact that it is not a direct loan provider, it can improve your chances of getting approved for really bad credit loans. The site allows you to request a loan of up to $5,000 easily.\n",
      "<br/>\n",
      "<br/>\n",
      "<strong>Features and services offered:<br/></strong>\n",
      "<strong>Trustworthy Lenders</strong>\n",
      "<br/>The service only connects users with legitimate lenders based in the US.\n",
      "<br/>\n",
      "<br/>\n",
      "<strong>Online procedure</strong>\n",
      "<br/>Loan applications are processed entirely online. You may quickly and conveniently submit a loan request using the website.\n",
      "<br/>\n",
      "<br/>\n",
      "<strong>State-of-the-art security measures</strong>\n",
      "<br/>The system is protected by state-of-the-art encryption technology. Your data, including personal and financial information, is safe, so you can request for loans with a peace of mind through the platform.\n",
      "<br/>\n",
      "<br/>\n",
      "<strong>Quick funding</strong>\n",
      "<br/>You may expect the money to be deposited into your account anywhere from a few hours to a day after you submit your loan request and receive approval from your lender.\n",
      "<br/>\n",
      "<br/>\n",
      "<strong>Pros</strong>\n",
      "<ul>\n",
      "<li>The firm employs unique technologies to secure data.</li>\n",
      "<li>They work with lenders who can provide you with a quick decision.</li>\n",
      "<li>The application procedure for the loan is simple and easy.</li>\n",
      "<li>They provide rapid loans to poor creditors with reasonable requirements.</li>\n",
      "</ul>\n",
      "<br/>\n",
      "<b>Cons</b>\n",
      "<br/>\n",
      "<ul>\n",
      "<li>Loans are only available to specific states.</li>\n",
      "<li>There is a $5,000 cap on the maximum loan amount that can be requested.</li>\n",
      "</ul>\n",
      "<br/>\n",
      "<a data-ga-onclick=\"Inarticle articleshow link click#Wealth#href\" href=\"https://usbadcreditloans.com?utm_source=ET&amp;utm_medium=HQ&amp;utm_campaign=top-bad-credit-loans-for-guaranteed-approval-in-2022&amp;utm_id=1\" rel=\"nofollow\"></a>\n",
      "<a data-ga-onclick=\"Inarticle articleshow link click#Wealth#href\" data-type=\"tilCustomLink\" href=\"https://usbadcreditloans.com?utm_source=ET&amp;utm_medium=HQ&amp;utm_campaign=top-bad-credit-loans-for-guaranteed-approval-in-2022&amp;utm_id=1\" rel=\"nofollow\" target=\"_blank\">Get started with US Bad Credit Loans website for loans &gt;&gt;</a>\n",
      "<br/>\n",
      "<br/>\n",
      "<strong>3. BadCreditLoans - Loans availability with no credit check<br/></strong>\n",
      "<div class=\"midImg clearfix\" data-align=\"\" data-msid=\"93776982\" data-type=\"image\"><figure class=\"imgBg\"><img alt=\"badcreditloans.ocm\" class=\"lazy gwt-Image\" data-msid=\"93776982\" data-original=\"https://img.etimg.com/photo/msid-93776982,quality-100/badcreditloans-ocm.jpg\" src=\"https://img.etimg.com/photo/msid-42031747,quality-100/et-logo.jpg\" title=\"badcreditloans.ocm\"/><span class=\"imgAgency\">ET Spotlight</span></figure><div><div class=\"imgActions flr\"><span class=\"asSprite imgZoom zoomIcon\"></span></div></div></div>\n",
      "<strong>Overview</strong>\n",
      "<br/>As the name indicates, BadCreditLoans focuses on assisting borrowers with low credit scores as low as 500. Customers may utilize the website to browse for mortgages, auto loans, student loans, and more. The site’s network of lenders are willing to provide loans to new or small businesses.\n",
      "<br/>\n",
      "<br/>\n",
      "<strong>Features and services offered:<br/></strong>\n",
      "<strong>Borrowing Capacity</strong>\n",
      "<br/>With this free online loan request site, you may apply for a loan of any amount between $500 and $10,000.\n",
      "<br/>\n",
      "<br/>\n",
      "<strong>APR</strong>\n",
      "<br/>The site offers unsecured loans with no credit check in the range of 5.99% to 35.99% APR for a period of 12 months. However, your annual percentage rate (APR) is established by a number of variables.\n",
      "<br/>\n",
      "<br/>\n",
      "<b>Terms</b>\n",
      "<br/>A loan from BCL may be repaid in as little as three months or as long as 36 months, making it a great option for borrowers looking for a short-term loan they can pay off fast.\n",
      "<br/>\n",
      "<br/>\n",
      "<b>Security</b>\n",
      "<br/>When a borrower applies for a loan with BadCreditLoans, their information is encrypted with cutting-edge technology to prevent data from accessing it.\n",
      "<br/>\n",
      "<br/>\n",
      "<strong>Application Process</strong>\n",
      "<br/>The application process is usually straightforward and does not cost anything. If you do not obtain an offer from one of BCL's network lenders, they will help you get one from a different source.\n",
      "<br/>\n",
      "<br/>\n",
      "<strong>Pros</strong>\n",
      "<ul>\n",
      "<li>Lending options are available up to $10,000.</li>\n",
      "<li>Easy implementation and quick turnaround times.</li>\n",
      "<li>Speedy monetary transactions.</li>\n",
      "<li>Extensive network of credible lenders.</li>\n",
      "</ul>\n",
      "<br/>\n",
      "<strong>Cons</strong>\n",
      "<br/>\n",
      "<ul>\n",
      "<li>Loan applications in some states are restricted due to local regulations.</li>\n",
      "<li>Borrowers must prove a $1,000 monthly income.</li>\n",
      "</ul>\n",
      "<br/>\n",
      "<strong>4. PersonalLoans - Get same day cash advance with no credit check</strong>\n",
      "<br/>\n",
      "<div class=\"midImg clearfix\" data-align=\"\" data-msid=\"93776989\" data-type=\"image\"><figure class=\"imgBg\"><img alt=\"personalloans\" class=\"lazy gwt-Image\" data-msid=\"93776989\" data-original=\"https://img.etimg.com/photo/msid-93776989,quality-100/personalloans.jpg\" src=\"https://img.etimg.com/photo/msid-42031747,quality-100/et-logo.jpg\" title=\"personalloans\"/><span class=\"imgAgency\">ET Spotlight</span></figure><div><div class=\"imgActions flr\"><span class=\"asSprite imgZoom zoomIcon\"></span></div></div></div>\n",
      "<strong>Overview</strong>\n",
      "<br/>PersonalLoans was established in the year 2001. PersonalLoans has been around for a long time, making it one of the oldest players of the personal loan business. Rather than providing loans directly, the platform connects borrowers with financial institutions that may meet their specific needs in terms of loan quantity, term length, and interest rate.\n",
      "<br/>\n",
      "<br/>\n",
      "<strong>Features and services offered:<br/></strong>\n",
      "<strong>High Loan Amount</strong>\n",
      "<strong><br/></strong>Borrowers can apply for personal loans of anywhere from $500 to $35,000. However, the terms and conditions of personal loans are usually more liberal than those of business loans.\n",
      "<br/>\n",
      "<br/>\n",
      "<strong>Debt Consolidation Loans</strong>\n",
      "<br/>You may get back on track with the assistance of this website by refinancing your credit card debt or undertaking a debt consolidation loan. You will have access to safe funds to pay off your obligations.\n",
      "<br/>\n",
      "<br/>\n",
      "<strong>Knowledge Database</strong>\n",
      "<br/>PersonalLoans offers a comprehensive loan application for first-time borrowers. As visitors look around the site, they may look in the large body of knowledge for answers to questions that are often asked.\n",
      "<br/>\n",
      "<br/>\n",
      "<strong>Security of Data</strong>\n",
      "<br/>Everything you provide on their site, including your name and address, is encrypted for your safety. Your data is only shared with the potential lender.\n",
      "<br/>\n",
      "<br/>\n",
      "<strong>Pros</strong>\n",
      "<ul>\n",
      "<li>You can take up to 72 months to pay off the loan.</li>\n",
      "<li>A database containing extensive amounts of information.</li>\n",
      "<li>Very manageable payment schedule.</li>\n",
      "<li>The maximum loan amount is $35,000.</li>\n",
      "</ul>\n",
      "<br/>\n",
      "<strong>Cons</strong>\n",
      "<br/>\n",
      "<ul>\n",
      "<li>Lower credit scores may prevent loan eligibility.</li>\n",
      "<li>An excessive amount of private data is required.</li>\n",
      "<li>Some lenders require bi-monthly payments.</li>\n",
      "</ul>\n",
      "<br/>\n",
      "<strong>5. CashUSA - Get same day cash advance with no credit check</strong>\n",
      "<br/>\n",
      "<div class=\"midImg clearfix\" data-align=\"\" data-msid=\"93776995\" data-type=\"image\"><figure class=\"imgBg\"><img alt=\"cashusa-700\" class=\"lazy gwt-Image\" data-msid=\"93776995\" data-original=\"https://img.etimg.com/photo/msid-93776995,quality-100/cashusa-700.jpg\" src=\"https://img.etimg.com/photo/msid-42031747,quality-100/et-logo.jpg\" title=\"cashusa-700\"/><span class=\"imgAgency\">ET Spotlight</span></figure><div><div class=\"imgActions flr\"><span class=\"asSprite imgZoom zoomIcon\"></span></div></div></div>\n",
      "<strong>Overview</strong>\n",
      "<br/>CashUSA is a broker platform that connects consumers with a variety of financial institutions offering loans between $500 and $10,000. However, the website states that borrowers with low credit ratings should not expect to acquire a loan of more than $1,000 from a loan company. Depending on the credit history, borrowers can choose between 90 days to a 72-month repayment plan to make it a more flexible term for its customers.\n",
      "<br/>\n",
      "<br/>\n",
      "<strong>Features and services offered:<br/></strong>\n",
      "<strong>Information Security</strong>\n",
      "<br/>CashUSA protects all user information using cutting-edge, modern encryption methods. This covers both financial and personal data. Also, the site is tested every day to make sure that there are no weaknesses in the system.\n",
      "<br/>\n",
      "<br/>\n",
      "<strong>Quick Application Procedure</strong>\n",
      "<br/>Working with CashUSA is much faster than dealing with a regular bank. You may also expect the funds to be sent into your account the next business day after you accept a loan offer.\n",
      "<br/>\n",
      "<br/>\n",
      "<strong>Online or AutoPay payments</strong>\n",
      "<br/>Users have the option of setting up automatic payments. The site will automatically deduct monthly loan payments from the user's bank account. This prevents the borrower from missing payments and going into default.\n",
      "<br/>\n",
      "<br/>\n",
      "<strong>Pros</strong>\n",
      "<ul>\n",
      "<li>Extremely extensive lending community.</li>\n",
      "<li>Extra learning resources are made available.</li>\n",
      "<li>Repaying a loan is simple and convenient.</li>\n",
      "<li>All user data is kept private and protected within the system.</li>\n",
      "</ul>\n",
      "<br/>\n",
      "<strong>Cons</strong>\n",
      "<br/>\n",
      "<ul>\n",
      "<li>Some lenders demand hefty rates on bad-credit loans.</li>\n",
      "<li>Loan amounts greater than $10,000 are not available.</li>\n",
      "</ul>\n",
      "<br/>\n",
      "<strong>What makes these the top loan companies for bad credit?</strong>\n",
      "<br/>Before finalizing the list, the following common aspects of the online companies for bad credit loans were considered.\n",
      "<br/>\n",
      "<br/>\n",
      "<strong>Lending Transparency</strong>\n",
      "<br/>While shortlisting the online loan providers mentioned above, companies with transparent lending procedures were given preference.. These companies offer processes where the borrowers will know clearly all aspects of the loans, including interest rates, repayment periods, fees and charges. You’ll be fully aware of what you are getting into and there are no surprises.\n",
      "<br/>\n",
      "<br/>\n",
      "<strong>Simple Application Process</strong>\n",
      "<br/>In the event of an unforeseen financial crisis, it is often critical to quickly locate a means of securing a financial lifeline. Hence, the amount of time it takes for each of the five online lenders mentioned above to make a final decision on a loan application was also taken under consideration.. All of them had the simplest, shortest application and loan approval procedures.\n",
      "<br/>\n",
      "<br/>\n",
      "<strong>Data Privacy</strong>\n",
      "<br/>Unfortunately, not all reputable online lending services can be trusted. While shortlisting the final five online lenders, several businesses were eliminated from consideration because they do not provide enough protection for their customers' private data. The websites on this list, on the other hand, can ensure your privacy is protected.\n",
      "<br/>\n",
      "<br/>\n",
      "<strong>Terms and Conditions</strong>\n",
      "<br/>The lending terms were another major criteria that was carefully examined while comparing the loan amounts offered by these companies. There are lenders with these companies who only provide loans for short periods of time with lower interest rates, such as two or three years. Some even offer personal loans for longer terms, up to seven years, which are also considered best for bad creditors. However, repayment periods might differ substantially depending on variables, including the sort of loan you are asking for, your credit history, and the lender you choose. Before agreeing to any of the conditions, make sure you read them in their entirety.\n",
      "<br/>\n",
      "<br/>\n",
      "<strong>Approval Time</strong>\n",
      "<br/>The length of time required for approval was also a consideration. Given the urgency of the situation, the companies with the quickest feasible approval for these loans are mentioned here. The loan approval procedure on the sites stated above takes no more than one business day and can be finalized in as little as a few hours if everything goes properly.\n",
      "<br/>\n",
      "<br/>\n",
      "<strong>Loan Amounts</strong>\n",
      "<br/>When analyzing these five businesses, careful consideration was also made for the loan amounts they offer, to ensure that they cover a wide range of money needs. The top shortlisted lenders mentioned here offer standard loan amounts ranging from $2,500 to $50,000.\n",
      "<br/>\n",
      "<strong><br/></strong>\n",
      "<strong>Customer Rating</strong>\n",
      "<br/>A lot of effort was put in with regards to learning every nuance of these services and customer feedback was crucial to this process. While shortlisting the top online lender, companies with the most positive feedback were given preference. We also cross referenced the customer feedback with the scores on the Consumer Financial Protection Bureau.. How to choose an easy approval loan for bad credit?\n",
      "<br/>\n",
      "<br/>Prior to making a final decision on a bad credit loan, there are a few things to think about. Take into account the following before submitting an online application for a loan.\n",
      "<br/>\n",
      "<br/>\n",
      "<strong>Loan Amounts</strong>\n",
      "<br/>The amount of money available for a loan may be the first consideration for many borrowers. Look into the amounts of loans offered by different sites and pick one according to your needs.\n",
      "<br/>\n",
      "<br/>\n",
      "<strong>Interest Rates</strong>\n",
      "<br/>If you take out a loan, the interest rate will decide how much you will have to pay back each month in addition to the principal. Compare the APR offered by different lenders and choose the lowest rate for your loan.\n",
      "<br/>\n",
      "<br/>\n",
      "<strong>Terms and Conditions</strong>\n",
      "<br/>After applying for a loan and receiving an offer, the terms and conditions should be given your full attention. If your financial position is strong with a steady monthly income, select a minimum term with the lowest APR offered. If you think the other way, select the maximum term of loan with minimum monthly payment, if feasible for you.\n",
      "<br/>\n",
      "<br/>\n",
      "<strong>Additional Charges</strong>\n",
      "<br/>All of the above-mentioned online loan marketplaces come at zero cost to you. However, to be on safer side, you need to consider additional costs (not always the case) for things like transaction processing, late payments, failed checks, and insufficient cash may be incurred.\n",
      "<br/>\n",
      "<br/>\n",
      "<strong>Valid Backup Plan</strong>\n",
      "<br/>Having a steady job is a plus in the eyes of most lenders, but the unexpected may always happen. Before even starting borrowing money, you need to consider a valid backup plan for your payment if your primary means of repayment fails.\n",
      "<br/>\n",
      "<br/>\n",
      "<strong>Is it expensive to get these guaranteed loans for bad credit?</strong>\n",
      "<br/>The expensiveness of a loan is based on its interest rate. The annual percentage rates of these loans can go above 400% for a maximum available term. That is much higher than the average APR for credit cards, which is often about 30%. This is due to the fact that increased interest rates are one way that lenders safeguard themselves against borrowers who default on their loans.\n",
      "<br/>\n",
      "<br/>It is possible to obtain a credit score that is higher than average if you borrow money responsibly and make timely payments. It is in your best interest to keep your credit score as high as possible, as this will ensure you receive the most favorable interest rates.\n",
      "<br/>\n",
      "<br/>\n",
      "<strong>Final Thoughts</strong>\n",
      "<br/>The best options for getting a loan online even if you have a low credit score are those that we have highlighted above. All of the above bad credit loan services that we have examined here have near 100% approval rate with no hard credit checks. Therefore, if you find yourself in need of immediate financial assistance but have a low credit score, you should not hesitate to contact any of the aforementioned companies.\n",
      "<br/>\n",
      "<br/>\n",
      "<em><strong>Disclaimer- The above content is non-editorial, and Economic Times hereby disclaims any and all warranties, expressed or implied, relating to it, and does not guarantee, vouch for or necessarily endorse any of the content.</strong></em>\n",
      "<br/>\n",
      "</div>\n"
     ]
    }
   ],
   "source": [
    "#Finding the first artText class in our html file\n",
    "article = soup.find('div',class_=\"artText\")\n",
    "print(article)"
   ]
  },
  {
   "cell_type": "code",
   "execution_count": 11,
   "id": "68ed1e9a",
   "metadata": {},
   "outputs": [
    {
     "name": "stdout",
     "output_type": "stream",
     "text": [
      "[<script type=\"application/ld+json\">\n",
      "        \t    {\n",
      "        \t        \"@context\" : \"http://schema.org\",\n",
      "        \t\t  \t\"@type\": \"NewsMediaOrganization\",\n",
      "        \t\t  \t\"name\": \"Economic Times\",\n",
      "        \t\t    \"url\" : \"https://economictimes.indiatimes.com/\",\n",
      "        \t\t    \"logo\": {\n",
      "        \t\t      \"@type\": \"ImageObject\",\n",
      "            \t      \"url\": \"https://img.etimg.com/thumb/msid-76939477,width-600,height-60,quality-100/economictimes.jpg\",\n",
      "        \t\t      \"width\": 600,\n",
      "        \t\t      \"height\": 60\n",
      "        \t\t    }\n",
      "        \t\t  }\n",
      "            </script>, <script type=\"application/ld+json\">{\n",
      "\t\t\t  \"@context\": \"http://schema.org\",\n",
      "\t\t\t  \"@type\": \"NewsArticle\",\n",
      "\t\t\t  \"inLanguage\":\"en\",\n",
      "\t\t\t  \"keywords\" : [\"Peoplewithbadcredit\",\"Weloansoverallbestplatformforloans\",\"Emergencycash\",\"Customersatisfaction\",\"bcl\",\"Termsandconditionsforgettingaloan\"],\n",
      "\t\t\t  \"headline\": \"Top  bad credit loans for guaranteed approval in 2022: Get same day cash advance loans with no credit chec\",\n",
      "\t\t\t  \"description\": \"Skip the time-consuming and difficult procedure of getting a loan and opt for these top bad credit loans for guaranteed approval. Read to know more\",\n",
      "\t\t\t  \"datePublished\": \"2022-08-25T16:06:00+05:30\",\n",
      "\t\t\t  \"dateModified\": \"2022-08-29T12:56:00+05:30\",\n",
      "\t\t\t  \"url\":\"https://economictimes.indiatimes.com/wealth/borrow/top-bad-credit-loans-for-guaranteed-approval-in-2022-get-same-day-cash-advance-loans-with-no-credit-check/articleshow/93776782.cms\",\n",
      "\t\t\t  \"mainEntityOfPage\":\"https://economictimes.indiatimes.com/wealth/borrow/top-bad-credit-loans-for-guaranteed-approval-in-2022-get-same-day-cash-advance-loans-with-no-credit-check/articleshow/93776782.cms\",\n",
      "\t\t\t  \n",
      "\t\t\t  \"articleSection\" : \"Wealth\",\n",
      "\t\t\t  \"articleBody\":\"Getting a conventional loan may be a time-consuming and difficult procedure. It can be even more difficult, if not impossible, to obtain financing if you have a bad credit history or score. Most banks and credit unions may turn down your application, leaving you with few, expensive ways to borrow money.  However, there are a large number of online lenders who offer emergency loans to consumers even with bad credit scores. Here are some of the top options available for obtaining a loan with bad credit from lenders with competitive rates and flexible repayment plans.    WeLoans - Excellent place to get payday loans for bad credit  US Bad Credit Loans- Loans for bad credit with guaranteed approval  BadCreditLoans - Loans availability with no credit check  PersonalLoans - Low rates for poor credit loans  CashUSA – Get same day cash advance with no credit check   1. WeLoans - Excellent place to get bad credit loans   93776957 Overview When you are looking specifically for a payday loan, WeLoans will do all of the homework for you and find the best available options. The site provides unsecured loans from $50 to $5,000 in a short length of time with no extensive paperwork required. Additionally, the majority of the loans offered by them are bad credit payday loans, also known as cash advance loans. The procedure for the provision of loans is carried out online. It takes only a few minutes to complete and submit the application that includes some basic information.   Features and services offered: Secure Data WeLoans is a trustworthy platform in the sense that they are not disclosing your information to anybody. So the information you supply to their website when you request for a loan is secured and safe.   Quick Loan Funding You may get a payday loan online swiftly and easily with the help of reputable lenders on their website. As soon as the loan agreement is finalized by the leaders, the loan funds will be deposited into your bank account in as little as two business days.   Reliable Lenders WeLoans works with reliable and trusted lenders only. These lenders can offer reasonable rates and terms, transparent application processes, and charge no hidden fee. So it would be safe to apply for loans there.   Pros   Availability of bad credit loans.  Quick processing times for loans and funds from lenders.  There are a variety of payment options available at reasonable prices.  Services are easy to get and are available around the clock.   Cons    It is not a direct lender for loans with bad credit.  No more than $5,000 in loans is available.    Visit WeLoans website to get more information about their services >>   2. US Bad Credit Loans - Loans for bad credit with guaranteed approval   93776970 Overview US Bad Credit Loans works with a wide variety of reputable American loan companies. Despite the fact that it is not a direct loan provider, it can improve your chances of getting approved for really bad credit loans. The site allows you to request a loan of up to $5,000 easily.   Features and services offered: Trustworthy Lenders The service only connects users with legitimate lenders based in the US.   Online procedure Loan applications are processed entirely online. You may quickly and conveniently submit a loan request using the website.   State-of-the-art security measures The system is protected by state-of-the-art encryption technology. Your data, including personal and financial information, is safe, so you can request for loans with a peace of mind through the platform.   Quick funding You may expect the money to be deposited into your account anywhere from a few hours to a day after you submit your loan request and receive approval from your lender.   Pros   The firm employs unique technologies to secure data.  They work with lenders who can provide you with a quick decision.  The application procedure for the loan is simple and easy.  They provide rapid loans to poor creditors with reasonable requirements.   Cons    Loans are only available to specific states.  There is a $5,000 cap on the maximum loan amount that can be requested.    Get started with US Bad Credit Loans website for loans >>   3. BadCreditLoans - Loans availability with no credit check  93776982 Overview As the name indicates, BadCreditLoans focuses on assisting borrowers with low credit scores as low as 500. Customers may utilize the website to browse for mortgages, auto loans, student loans, and more. The site’s network of lenders are willing to provide loans to new or small businesses.   Features and services offered: Borrowing Capacity With this free online loan request site, you may apply for a loan of any amount between $500 and $10,000.   APR The site offers unsecured loans with no credit check in the range of 5.99% to 35.99% APR for a period of 12 months. However, your annual percentage rate (APR) is established by a number of variables.   Terms A loan from BCL may be repaid in as little as three months or as long as 36 months, making it a great option for borrowers looking for a short-term loan they can pay off fast.   Security When a borrower applies for a loan with BadCreditLoans, their information is encrypted with cutting-edge technology to prevent data from accessing it.   Application Process The application process is usually straightforward and does not cost anything. If you do not obtain an offer from one of BCL's network lenders, they will help you get one from a different source.   Pros   Lending options are available up to $10,000.  Easy implementation and quick turnaround times.  Speedy monetary transactions.  Extensive network of credible lenders.   Cons    Loan applications in some states are restricted due to local regulations.  Borrowers must prove a $1,000 monthly income.   4. PersonalLoans - Get same day cash advance with no credit check   93776989 Overview PersonalLoans was established in the year 2001. PersonalLoans has been around for a long time, making it one of the oldest players of the personal loan business. Rather than providing loans directly, the platform connects borrowers with financial institutions that may meet their specific needs in terms of loan quantity, term length, and interest rate.   Features and services offered: High Loan Amount Borrowers can apply for personal loans of anywhere from $500 to $35,000. However, the terms and conditions of personal loans are usually more liberal than those of business loans.   Debt Consolidation Loans You may get back on track with the assistance of this website by refinancing your credit card debt or undertaking a debt consolidation loan. You will have access to safe funds to pay off your obligations.   Knowledge Database PersonalLoans offers a comprehensive loan application for first-time borrowers. As visitors look around the site, they may look in the large body of knowledge for answers to questions that are often asked.   Security of Data Everything you provide on their site, including your name and address, is encrypted for your safety. Your data is only shared with the potential lender.   Pros   You can take up to 72 months to pay off the loan.  A database containing extensive amounts of information.  Very manageable payment schedule.  The maximum loan amount is $35,000.   Cons    Lower credit scores may prevent loan eligibility.  An excessive amount of private data is required.  Some lenders require bi-monthly payments.   5. CashUSA - Get same day cash advance with no credit check   93776995 Overview CashUSA is a broker platform that connects consumers with a variety of financial institutions offering loans between $500 and $10,000. However, the website states that borrowers with low credit ratings should not expect to acquire a loan of more than $1,000 from a loan company. Depending on the credit history, borrowers can choose between 90 days to a 72-month repayment plan to make it a more flexible term for its customers.   Features and services offered: Information Security CashUSA protects all user information using cutting-edge, modern encryption methods. This covers both financial and personal data. Also, the site is tested every day to make sure that there are no weaknesses in the system.   Quick Application Procedure Working with CashUSA is much faster than dealing with a regular bank. You may also expect the funds to be sent into your account the next business day after you accept a loan offer.   Online or AutoPay payments Users have the option of setting up automatic payments. The site will automatically deduct monthly loan payments from the user's bank account. This prevents the borrower from missing payments and going into default.   Pros   Extremely extensive lending community.  Extra learning resources are made available.  Repaying a loan is simple and convenient.  All user data is kept private and protected within the system.   Cons    Some lenders demand hefty rates on bad-credit loans.  Loan amounts greater than $10,000 are not available.   What makes these the top loan companies for bad credit? Before finalizing the list, the following common aspects of the online companies for bad credit loans were considered.   Lending Transparency While shortlisting the online loan providers mentioned above, companies with transparent lending procedures were given preference.. These companies offer processes where the borrowers will know clearly all aspects of the loans, including interest rates, repayment periods, fees and charges. You’ll be fully aware of what you are getting into and there are no surprises.   Simple Application Process In the event of an unforeseen financial crisis, it is often critical to quickly locate a means of securing a financial lifeline. Hence, the amount of time it takes for each of the five online lenders mentioned above to make a final decision on a loan application was also taken under consideration.. All of them had the simplest, shortest application and loan approval procedures.   Data Privacy Unfortunately, not all reputable online lending services can be trusted. While shortlisting the final five online lenders, several businesses were eliminated from consideration because they do not provide enough protection for their customers' private data. The websites on this list, on the other hand, can ensure your privacy is protected.   Terms and Conditions The lending terms were another major criteria that was carefully examined while comparing the loan amounts offered by these companies. There are lenders with these companies who only provide loans for short periods of time with lower interest rates, such as two or three years. Some even offer personal loans for longer terms, up to seven years, which are also considered best for bad creditors. However, repayment periods might differ substantially depending on variables, including the sort of loan you are asking for, your credit history, and the lender you choose. Before agreeing to any of the conditions, make sure you read them in their entirety.   Approval Time The length of time required for approval was also a consideration. Given the urgency of the situation, the companies with the quickest feasible approval for these loans are mentioned here. The loan approval procedure on the sites stated above takes no more than one business day and can be finalized in as little as a few hours if everything goes properly.   Loan Amounts When analyzing these five businesses, careful consideration was also made for the loan amounts they offer, to ensure that they cover a wide range of money needs. The top shortlisted lenders mentioned here offer standard loan amounts ranging from $2,500 to $50,000.   Customer Rating A lot of effort was put in with regards to learning every nuance of these services and customer feedback was crucial to this process. While shortlisting the top online lender, companies with the most positive feedback were given preference. We also cross referenced the customer feedback with the scores on the Consumer Financial Protection Bureau.. How to choose an easy approval loan for bad credit?  Prior to making a final decision on a bad credit loan, there are a few things to think about. Take into account the following before submitting an online application for a loan.   Loan Amounts The amount of money available for a loan may be the first consideration for many borrowers. Look into the amounts of loans offered by different sites and pick one according to your needs.   Interest Rates If you take out a loan, the interest rate will decide how much you will have to pay back each month in addition to the principal. Compare the APR offered by different lenders and choose the lowest rate for your loan.   Terms and Conditions After applying for a loan and receiving an offer, the terms and conditions should be given your full attention. If your financial position is strong with a steady monthly income, select a minimum term with the lowest APR offered. If you think the other way, select the maximum term of loan with minimum monthly payment, if feasible for you.   Additional Charges All of the above-mentioned online loan marketplaces come at zero cost to you. However, to be on safer side, you need to consider additional costs (not always the case) for things like transaction processing, late payments, failed checks, and insufficient cash may be incurred.   Valid Backup Plan Having a steady job is a plus in the eyes of most lenders, but the unexpected may always happen. Before even starting borrowing money, you need to consider a valid backup plan for your payment if your primary means of repayment fails.   Is it expensive to get these guaranteed loans for bad credit? The expensiveness of a loan is based on its interest rate. The annual percentage rates of these loans can go above 400% for a maximum available term. That is much higher than the average APR for credit cards, which is often about 30%. This is due to the fact that increased interest rates are one way that lenders safeguard themselves against borrowers who default on their loans.  It is possible to obtain a credit score that is higher than average if you borrow money responsibly and make timely payments. It is in your best interest to keep your credit score as high as possible, as this will ensure you receive the most favorable interest rates.   Final Thoughts The best options for getting a loan online even if you have a low credit score are those that we have highlighted above. All of the above bad credit loan services that we have examined here have near 100% approval rate with no hard credit checks. Therefore, if you find yourself in need of immediate financial assistance but have a low credit score, you should not hesitate to contact any of the aforementioned companies.   Disclaimer- The above content is non-editorial, and Economic Times hereby disclaims any and all warranties, expressed or implied, relating to it, and does not guarantee, vouch for or necessarily endorse any of the content.  \",\n",
      "\t\t\t  \n",
      "\t\t\t  \"image\": {\n",
      "\t\t\t    \"@type\": \"ImageObject\",\n",
      "\t\t\t    \"url\": \"https://img.etimg.com/thumb/msid-93776945,width-640,height-480,imgsize-20820,overlay-etwealth/photo.jpg\",\n",
      "\t\t\t    \"height\": 480,\n",
      "\t\t\t    \"width\": 640\n",
      "\t\t\t  },\n",
      "\t\t\t  \"author\": {\n",
      "\t\t\t    \"@type\": \"Thing\",\n",
      "\t\t\t    \"name\": \"ET Spotlight\"\n",
      "\t\t\t  },\n",
      "\t\t\t  \"publisher\": {\n",
      "\t\t\t  \t\"@type\": \"NewsMediaOrganization\",\n",
      "\t\t\t    \"name\": \"Economic Times\",\n",
      "\t\t\t    \"logo\": {\n",
      "\t\t\t      \"@type\": \"ImageObject\",\n",
      "\t\t\t      \"url\": \"https://img.etimg.com/thumb/msid-76939477,width-600,height-60,quality-100/economictimes.jpg\",\n",
      "\t\t\t      \"width\": 600,\n",
      "\t\t\t      \"height\": 60\n",
      "\t\t\t    }\n",
      "\t\t\t  }\n",
      "\t\t\t  \n",
      "\t\t\t  }</script>, <script type=\"application/ld+json\">\n",
      "\t\t\t    {\n",
      "                 \"@context\": \"http://schema.org/\",\n",
      "                 \"@type\" : \"WebPage\",\n",
      "                 \"name\" : \"Top  bad credit loans for guaranteed approval in 2022: Get same day cash advance loans with no credit chec\",\n",
      "                 \"speakable\" : {\n",
      "                  \"@type\": \"SpeakableSpecification\",\n",
      "                  \"cssSelector\" : [\"headline\", \"Skip the time-consuming and difficult procedure of getting a loan and opt for these top bad credit loans for guaranteed approval. Read to know more\"]\n",
      "                  },\n",
      "                 \"url\": \"https://economictimes.indiatimes.com/wealth/borrow/top-bad-credit-loans-for-guaranteed-approval-in-2022-get-same-day-cash-advance-loans-with-no-credit-check/articleshow/93776782.cms\"\n",
      "                 }\n",
      "            </script>]\n"
     ]
    }
   ],
   "source": [
    "#Finding all instances of given script type in our html file\n",
    "article = soup.find_all('script',type=\"application/ld+json\")\n",
    "print(article)"
   ]
  },
  {
   "cell_type": "code",
   "execution_count": 12,
   "id": "819c9201",
   "metadata": {},
   "outputs": [
    {
     "name": "stdout",
     "output_type": "stream",
     "text": [
      "[<script type=\"application/ld+json\">\n",
      "        \t    {\n",
      "        \t        \"@context\" : \"http://schema.org\",\n",
      "        \t\t  \t\"@type\": \"NewsMediaOrganization\",\n",
      "        \t\t  \t\"name\": \"Economic Times\",\n",
      "        \t\t    \"url\" : \"https://economictimes.indiatimes.com/\",\n",
      "        \t\t    \"logo\": {\n",
      "        \t\t      \"@type\": \"ImageObject\",\n",
      "            \t      \"url\": \"https://img.etimg.com/thumb/msid-76939477,width-600,height-60,quality-100/economictimes.jpg\",\n",
      "        \t\t      \"width\": 600,\n",
      "        \t\t      \"height\": 60\n",
      "        \t\t    }\n",
      "        \t\t  }\n",
      "            </script>, <script type=\"application/ld+json\">{\n",
      "\t\t\t  \"@context\": \"http://schema.org\",\n",
      "\t\t\t  \"@type\": \"NewsArticle\",\n",
      "\t\t\t  \"inLanguage\":\"en\",\n",
      "\t\t\t  \"keywords\" : [\"Peoplewithbadcredit\",\"Weloansoverallbestplatformforloans\",\"Emergencycash\",\"Customersatisfaction\",\"bcl\",\"Termsandconditionsforgettingaloan\"],\n",
      "\t\t\t  \"headline\": \"Top  bad credit loans for guaranteed approval in 2022: Get same day cash advance loans with no credit chec\",\n",
      "\t\t\t  \"description\": \"Skip the time-consuming and difficult procedure of getting a loan and opt for these top bad credit loans for guaranteed approval. Read to know more\",\n",
      "\t\t\t  \"datePublished\": \"2022-08-25T16:06:00+05:30\",\n",
      "\t\t\t  \"dateModified\": \"2022-08-29T12:56:00+05:30\",\n",
      "\t\t\t  \"url\":\"https://economictimes.indiatimes.com/wealth/borrow/top-bad-credit-loans-for-guaranteed-approval-in-2022-get-same-day-cash-advance-loans-with-no-credit-check/articleshow/93776782.cms\",\n",
      "\t\t\t  \"mainEntityOfPage\":\"https://economictimes.indiatimes.com/wealth/borrow/top-bad-credit-loans-for-guaranteed-approval-in-2022-get-same-day-cash-advance-loans-with-no-credit-check/articleshow/93776782.cms\",\n",
      "\t\t\t  \n",
      "\t\t\t  \"articleSection\" : \"Wealth\",\n",
      "\t\t\t  \"articleBody\":\"Getting a conventional loan may be a time-consuming and difficult procedure. It can be even more difficult, if not impossible, to obtain financing if you have a bad credit history or score. Most banks and credit unions may turn down your application, leaving you with few, expensive ways to borrow money.  However, there are a large number of online lenders who offer emergency loans to consumers even with bad credit scores. Here are some of the top options available for obtaining a loan with bad credit from lenders with competitive rates and flexible repayment plans.    WeLoans - Excellent place to get payday loans for bad credit  US Bad Credit Loans- Loans for bad credit with guaranteed approval  BadCreditLoans - Loans availability with no credit check  PersonalLoans - Low rates for poor credit loans  CashUSA – Get same day cash advance with no credit check   1. WeLoans - Excellent place to get bad credit loans   93776957 Overview When you are looking specifically for a payday loan, WeLoans will do all of the homework for you and find the best available options. The site provides unsecured loans from $50 to $5,000 in a short length of time with no extensive paperwork required. Additionally, the majority of the loans offered by them are bad credit payday loans, also known as cash advance loans. The procedure for the provision of loans is carried out online. It takes only a few minutes to complete and submit the application that includes some basic information.   Features and services offered: Secure Data WeLoans is a trustworthy platform in the sense that they are not disclosing your information to anybody. So the information you supply to their website when you request for a loan is secured and safe.   Quick Loan Funding You may get a payday loan online swiftly and easily with the help of reputable lenders on their website. As soon as the loan agreement is finalized by the leaders, the loan funds will be deposited into your bank account in as little as two business days.   Reliable Lenders WeLoans works with reliable and trusted lenders only. These lenders can offer reasonable rates and terms, transparent application processes, and charge no hidden fee. So it would be safe to apply for loans there.   Pros   Availability of bad credit loans.  Quick processing times for loans and funds from lenders.  There are a variety of payment options available at reasonable prices.  Services are easy to get and are available around the clock.   Cons    It is not a direct lender for loans with bad credit.  No more than $5,000 in loans is available.    Visit WeLoans website to get more information about their services >>   2. US Bad Credit Loans - Loans for bad credit with guaranteed approval   93776970 Overview US Bad Credit Loans works with a wide variety of reputable American loan companies. Despite the fact that it is not a direct loan provider, it can improve your chances of getting approved for really bad credit loans. The site allows you to request a loan of up to $5,000 easily.   Features and services offered: Trustworthy Lenders The service only connects users with legitimate lenders based in the US.   Online procedure Loan applications are processed entirely online. You may quickly and conveniently submit a loan request using the website.   State-of-the-art security measures The system is protected by state-of-the-art encryption technology. Your data, including personal and financial information, is safe, so you can request for loans with a peace of mind through the platform.   Quick funding You may expect the money to be deposited into your account anywhere from a few hours to a day after you submit your loan request and receive approval from your lender.   Pros   The firm employs unique technologies to secure data.  They work with lenders who can provide you with a quick decision.  The application procedure for the loan is simple and easy.  They provide rapid loans to poor creditors with reasonable requirements.   Cons    Loans are only available to specific states.  There is a $5,000 cap on the maximum loan amount that can be requested.    Get started with US Bad Credit Loans website for loans >>   3. BadCreditLoans - Loans availability with no credit check  93776982 Overview As the name indicates, BadCreditLoans focuses on assisting borrowers with low credit scores as low as 500. Customers may utilize the website to browse for mortgages, auto loans, student loans, and more. The site’s network of lenders are willing to provide loans to new or small businesses.   Features and services offered: Borrowing Capacity With this free online loan request site, you may apply for a loan of any amount between $500 and $10,000.   APR The site offers unsecured loans with no credit check in the range of 5.99% to 35.99% APR for a period of 12 months. However, your annual percentage rate (APR) is established by a number of variables.   Terms A loan from BCL may be repaid in as little as three months or as long as 36 months, making it a great option for borrowers looking for a short-term loan they can pay off fast.   Security When a borrower applies for a loan with BadCreditLoans, their information is encrypted with cutting-edge technology to prevent data from accessing it.   Application Process The application process is usually straightforward and does not cost anything. If you do not obtain an offer from one of BCL's network lenders, they will help you get one from a different source.   Pros   Lending options are available up to $10,000.  Easy implementation and quick turnaround times.  Speedy monetary transactions.  Extensive network of credible lenders.   Cons    Loan applications in some states are restricted due to local regulations.  Borrowers must prove a $1,000 monthly income.   4. PersonalLoans - Get same day cash advance with no credit check   93776989 Overview PersonalLoans was established in the year 2001. PersonalLoans has been around for a long time, making it one of the oldest players of the personal loan business. Rather than providing loans directly, the platform connects borrowers with financial institutions that may meet their specific needs in terms of loan quantity, term length, and interest rate.   Features and services offered: High Loan Amount Borrowers can apply for personal loans of anywhere from $500 to $35,000. However, the terms and conditions of personal loans are usually more liberal than those of business loans.   Debt Consolidation Loans You may get back on track with the assistance of this website by refinancing your credit card debt or undertaking a debt consolidation loan. You will have access to safe funds to pay off your obligations.   Knowledge Database PersonalLoans offers a comprehensive loan application for first-time borrowers. As visitors look around the site, they may look in the large body of knowledge for answers to questions that are often asked.   Security of Data Everything you provide on their site, including your name and address, is encrypted for your safety. Your data is only shared with the potential lender.   Pros   You can take up to 72 months to pay off the loan.  A database containing extensive amounts of information.  Very manageable payment schedule.  The maximum loan amount is $35,000.   Cons    Lower credit scores may prevent loan eligibility.  An excessive amount of private data is required.  Some lenders require bi-monthly payments.   5. CashUSA - Get same day cash advance with no credit check   93776995 Overview CashUSA is a broker platform that connects consumers with a variety of financial institutions offering loans between $500 and $10,000. However, the website states that borrowers with low credit ratings should not expect to acquire a loan of more than $1,000 from a loan company. Depending on the credit history, borrowers can choose between 90 days to a 72-month repayment plan to make it a more flexible term for its customers.   Features and services offered: Information Security CashUSA protects all user information using cutting-edge, modern encryption methods. This covers both financial and personal data. Also, the site is tested every day to make sure that there are no weaknesses in the system.   Quick Application Procedure Working with CashUSA is much faster than dealing with a regular bank. You may also expect the funds to be sent into your account the next business day after you accept a loan offer.   Online or AutoPay payments Users have the option of setting up automatic payments. The site will automatically deduct monthly loan payments from the user's bank account. This prevents the borrower from missing payments and going into default.   Pros   Extremely extensive lending community.  Extra learning resources are made available.  Repaying a loan is simple and convenient.  All user data is kept private and protected within the system.   Cons    Some lenders demand hefty rates on bad-credit loans.  Loan amounts greater than $10,000 are not available.   What makes these the top loan companies for bad credit? Before finalizing the list, the following common aspects of the online companies for bad credit loans were considered.   Lending Transparency While shortlisting the online loan providers mentioned above, companies with transparent lending procedures were given preference.. These companies offer processes where the borrowers will know clearly all aspects of the loans, including interest rates, repayment periods, fees and charges. You’ll be fully aware of what you are getting into and there are no surprises.   Simple Application Process In the event of an unforeseen financial crisis, it is often critical to quickly locate a means of securing a financial lifeline. Hence, the amount of time it takes for each of the five online lenders mentioned above to make a final decision on a loan application was also taken under consideration.. All of them had the simplest, shortest application and loan approval procedures.   Data Privacy Unfortunately, not all reputable online lending services can be trusted. While shortlisting the final five online lenders, several businesses were eliminated from consideration because they do not provide enough protection for their customers' private data. The websites on this list, on the other hand, can ensure your privacy is protected.   Terms and Conditions The lending terms were another major criteria that was carefully examined while comparing the loan amounts offered by these companies. There are lenders with these companies who only provide loans for short periods of time with lower interest rates, such as two or three years. Some even offer personal loans for longer terms, up to seven years, which are also considered best for bad creditors. However, repayment periods might differ substantially depending on variables, including the sort of loan you are asking for, your credit history, and the lender you choose. Before agreeing to any of the conditions, make sure you read them in their entirety.   Approval Time The length of time required for approval was also a consideration. Given the urgency of the situation, the companies with the quickest feasible approval for these loans are mentioned here. The loan approval procedure on the sites stated above takes no more than one business day and can be finalized in as little as a few hours if everything goes properly.   Loan Amounts When analyzing these five businesses, careful consideration was also made for the loan amounts they offer, to ensure that they cover a wide range of money needs. The top shortlisted lenders mentioned here offer standard loan amounts ranging from $2,500 to $50,000.   Customer Rating A lot of effort was put in with regards to learning every nuance of these services and customer feedback was crucial to this process. While shortlisting the top online lender, companies with the most positive feedback were given preference. We also cross referenced the customer feedback with the scores on the Consumer Financial Protection Bureau.. How to choose an easy approval loan for bad credit?  Prior to making a final decision on a bad credit loan, there are a few things to think about. Take into account the following before submitting an online application for a loan.   Loan Amounts The amount of money available for a loan may be the first consideration for many borrowers. Look into the amounts of loans offered by different sites and pick one according to your needs.   Interest Rates If you take out a loan, the interest rate will decide how much you will have to pay back each month in addition to the principal. Compare the APR offered by different lenders and choose the lowest rate for your loan.   Terms and Conditions After applying for a loan and receiving an offer, the terms and conditions should be given your full attention. If your financial position is strong with a steady monthly income, select a minimum term with the lowest APR offered. If you think the other way, select the maximum term of loan with minimum monthly payment, if feasible for you.   Additional Charges All of the above-mentioned online loan marketplaces come at zero cost to you. However, to be on safer side, you need to consider additional costs (not always the case) for things like transaction processing, late payments, failed checks, and insufficient cash may be incurred.   Valid Backup Plan Having a steady job is a plus in the eyes of most lenders, but the unexpected may always happen. Before even starting borrowing money, you need to consider a valid backup plan for your payment if your primary means of repayment fails.   Is it expensive to get these guaranteed loans for bad credit? The expensiveness of a loan is based on its interest rate. The annual percentage rates of these loans can go above 400% for a maximum available term. That is much higher than the average APR for credit cards, which is often about 30%. This is due to the fact that increased interest rates are one way that lenders safeguard themselves against borrowers who default on their loans.  It is possible to obtain a credit score that is higher than average if you borrow money responsibly and make timely payments. It is in your best interest to keep your credit score as high as possible, as this will ensure you receive the most favorable interest rates.   Final Thoughts The best options for getting a loan online even if you have a low credit score are those that we have highlighted above. All of the above bad credit loan services that we have examined here have near 100% approval rate with no hard credit checks. Therefore, if you find yourself in need of immediate financial assistance but have a low credit score, you should not hesitate to contact any of the aforementioned companies.   Disclaimer- The above content is non-editorial, and Economic Times hereby disclaims any and all warranties, expressed or implied, relating to it, and does not guarantee, vouch for or necessarily endorse any of the content.  \",\n",
      "\t\t\t  \n",
      "\t\t\t  \"image\": {\n",
      "\t\t\t    \"@type\": \"ImageObject\",\n",
      "\t\t\t    \"url\": \"https://img.etimg.com/thumb/msid-93776945,width-640,height-480,imgsize-20820,overlay-etwealth/photo.jpg\",\n",
      "\t\t\t    \"height\": 480,\n",
      "\t\t\t    \"width\": 640\n",
      "\t\t\t  },\n",
      "\t\t\t  \"author\": {\n",
      "\t\t\t    \"@type\": \"Thing\",\n",
      "\t\t\t    \"name\": \"ET Spotlight\"\n",
      "\t\t\t  },\n",
      "\t\t\t  \"publisher\": {\n",
      "\t\t\t  \t\"@type\": \"NewsMediaOrganization\",\n",
      "\t\t\t    \"name\": \"Economic Times\",\n",
      "\t\t\t    \"logo\": {\n",
      "\t\t\t      \"@type\": \"ImageObject\",\n",
      "\t\t\t      \"url\": \"https://img.etimg.com/thumb/msid-76939477,width-600,height-60,quality-100/economictimes.jpg\",\n",
      "\t\t\t      \"width\": 600,\n",
      "\t\t\t      \"height\": 60\n",
      "\t\t\t    }\n",
      "\t\t\t  }\n",
      "\t\t\t  \n",
      "\t\t\t  }</script>, <script type=\"application/ld+json\">\n",
      "\t\t\t    {\n",
      "                 \"@context\": \"http://schema.org/\",\n",
      "                 \"@type\" : \"WebPage\",\n",
      "                 \"name\" : \"Top  bad credit loans for guaranteed approval in 2022: Get same day cash advance loans with no credit chec\",\n",
      "                 \"speakable\" : {\n",
      "                  \"@type\": \"SpeakableSpecification\",\n",
      "                  \"cssSelector\" : [\"headline\", \"Skip the time-consuming and difficult procedure of getting a loan and opt for these top bad credit loans for guaranteed approval. Read to know more\"]\n",
      "                  },\n",
      "                 \"url\": \"https://economictimes.indiatimes.com/wealth/borrow/top-bad-credit-loans-for-guaranteed-approval-in-2022-get-same-day-cash-advance-loans-with-no-credit-check/articleshow/93776782.cms\"\n",
      "                 }\n",
      "            </script>]\n"
     ]
    }
   ],
   "source": [
    "#does the same\n",
    "article = soup.find_all('script',attrs={\"type\":\"application/ld+json\"})\n",
    "print(article)"
   ]
  },
  {
   "cell_type": "code",
   "execution_count": 13,
   "id": "13c14c96",
   "metadata": {},
   "outputs": [
    {
     "data": {
      "text/plain": [
       "<script type=\"application/ld+json\">{\n",
       "\t\t\t  \"@context\": \"http://schema.org\",\n",
       "\t\t\t  \"@type\": \"NewsArticle\",\n",
       "\t\t\t  \"inLanguage\":\"en\",\n",
       "\t\t\t  \"keywords\" : [\"Peoplewithbadcredit\",\"Weloansoverallbestplatformforloans\",\"Emergencycash\",\"Customersatisfaction\",\"bcl\",\"Termsandconditionsforgettingaloan\"],\n",
       "\t\t\t  \"headline\": \"Top  bad credit loans for guaranteed approval in 2022: Get same day cash advance loans with no credit chec\",\n",
       "\t\t\t  \"description\": \"Skip the time-consuming and difficult procedure of getting a loan and opt for these top bad credit loans for guaranteed approval. Read to know more\",\n",
       "\t\t\t  \"datePublished\": \"2022-08-25T16:06:00+05:30\",\n",
       "\t\t\t  \"dateModified\": \"2022-08-29T12:56:00+05:30\",\n",
       "\t\t\t  \"url\":\"https://economictimes.indiatimes.com/wealth/borrow/top-bad-credit-loans-for-guaranteed-approval-in-2022-get-same-day-cash-advance-loans-with-no-credit-check/articleshow/93776782.cms\",\n",
       "\t\t\t  \"mainEntityOfPage\":\"https://economictimes.indiatimes.com/wealth/borrow/top-bad-credit-loans-for-guaranteed-approval-in-2022-get-same-day-cash-advance-loans-with-no-credit-check/articleshow/93776782.cms\",\n",
       "\t\t\t  \n",
       "\t\t\t  \"articleSection\" : \"Wealth\",\n",
       "\t\t\t  \"articleBody\":\"Getting a conventional loan may be a time-consuming and difficult procedure. It can be even more difficult, if not impossible, to obtain financing if you have a bad credit history or score. Most banks and credit unions may turn down your application, leaving you with few, expensive ways to borrow money.  However, there are a large number of online lenders who offer emergency loans to consumers even with bad credit scores. Here are some of the top options available for obtaining a loan with bad credit from lenders with competitive rates and flexible repayment plans.    WeLoans - Excellent place to get payday loans for bad credit  US Bad Credit Loans- Loans for bad credit with guaranteed approval  BadCreditLoans - Loans availability with no credit check  PersonalLoans - Low rates for poor credit loans  CashUSA – Get same day cash advance with no credit check   1. WeLoans - Excellent place to get bad credit loans   93776957 Overview When you are looking specifically for a payday loan, WeLoans will do all of the homework for you and find the best available options. The site provides unsecured loans from $50 to $5,000 in a short length of time with no extensive paperwork required. Additionally, the majority of the loans offered by them are bad credit payday loans, also known as cash advance loans. The procedure for the provision of loans is carried out online. It takes only a few minutes to complete and submit the application that includes some basic information.   Features and services offered: Secure Data WeLoans is a trustworthy platform in the sense that they are not disclosing your information to anybody. So the information you supply to their website when you request for a loan is secured and safe.   Quick Loan Funding You may get a payday loan online swiftly and easily with the help of reputable lenders on their website. As soon as the loan agreement is finalized by the leaders, the loan funds will be deposited into your bank account in as little as two business days.   Reliable Lenders WeLoans works with reliable and trusted lenders only. These lenders can offer reasonable rates and terms, transparent application processes, and charge no hidden fee. So it would be safe to apply for loans there.   Pros   Availability of bad credit loans.  Quick processing times for loans and funds from lenders.  There are a variety of payment options available at reasonable prices.  Services are easy to get and are available around the clock.   Cons    It is not a direct lender for loans with bad credit.  No more than $5,000 in loans is available.    Visit WeLoans website to get more information about their services >>   2. US Bad Credit Loans - Loans for bad credit with guaranteed approval   93776970 Overview US Bad Credit Loans works with a wide variety of reputable American loan companies. Despite the fact that it is not a direct loan provider, it can improve your chances of getting approved for really bad credit loans. The site allows you to request a loan of up to $5,000 easily.   Features and services offered: Trustworthy Lenders The service only connects users with legitimate lenders based in the US.   Online procedure Loan applications are processed entirely online. You may quickly and conveniently submit a loan request using the website.   State-of-the-art security measures The system is protected by state-of-the-art encryption technology. Your data, including personal and financial information, is safe, so you can request for loans with a peace of mind through the platform.   Quick funding You may expect the money to be deposited into your account anywhere from a few hours to a day after you submit your loan request and receive approval from your lender.   Pros   The firm employs unique technologies to secure data.  They work with lenders who can provide you with a quick decision.  The application procedure for the loan is simple and easy.  They provide rapid loans to poor creditors with reasonable requirements.   Cons    Loans are only available to specific states.  There is a $5,000 cap on the maximum loan amount that can be requested.    Get started with US Bad Credit Loans website for loans >>   3. BadCreditLoans - Loans availability with no credit check  93776982 Overview As the name indicates, BadCreditLoans focuses on assisting borrowers with low credit scores as low as 500. Customers may utilize the website to browse for mortgages, auto loans, student loans, and more. The site’s network of lenders are willing to provide loans to new or small businesses.   Features and services offered: Borrowing Capacity With this free online loan request site, you may apply for a loan of any amount between $500 and $10,000.   APR The site offers unsecured loans with no credit check in the range of 5.99% to 35.99% APR for a period of 12 months. However, your annual percentage rate (APR) is established by a number of variables.   Terms A loan from BCL may be repaid in as little as three months or as long as 36 months, making it a great option for borrowers looking for a short-term loan they can pay off fast.   Security When a borrower applies for a loan with BadCreditLoans, their information is encrypted with cutting-edge technology to prevent data from accessing it.   Application Process The application process is usually straightforward and does not cost anything. If you do not obtain an offer from one of BCL's network lenders, they will help you get one from a different source.   Pros   Lending options are available up to $10,000.  Easy implementation and quick turnaround times.  Speedy monetary transactions.  Extensive network of credible lenders.   Cons    Loan applications in some states are restricted due to local regulations.  Borrowers must prove a $1,000 monthly income.   4. PersonalLoans - Get same day cash advance with no credit check   93776989 Overview PersonalLoans was established in the year 2001. PersonalLoans has been around for a long time, making it one of the oldest players of the personal loan business. Rather than providing loans directly, the platform connects borrowers with financial institutions that may meet their specific needs in terms of loan quantity, term length, and interest rate.   Features and services offered: High Loan Amount Borrowers can apply for personal loans of anywhere from $500 to $35,000. However, the terms and conditions of personal loans are usually more liberal than those of business loans.   Debt Consolidation Loans You may get back on track with the assistance of this website by refinancing your credit card debt or undertaking a debt consolidation loan. You will have access to safe funds to pay off your obligations.   Knowledge Database PersonalLoans offers a comprehensive loan application for first-time borrowers. As visitors look around the site, they may look in the large body of knowledge for answers to questions that are often asked.   Security of Data Everything you provide on their site, including your name and address, is encrypted for your safety. Your data is only shared with the potential lender.   Pros   You can take up to 72 months to pay off the loan.  A database containing extensive amounts of information.  Very manageable payment schedule.  The maximum loan amount is $35,000.   Cons    Lower credit scores may prevent loan eligibility.  An excessive amount of private data is required.  Some lenders require bi-monthly payments.   5. CashUSA - Get same day cash advance with no credit check   93776995 Overview CashUSA is a broker platform that connects consumers with a variety of financial institutions offering loans between $500 and $10,000. However, the website states that borrowers with low credit ratings should not expect to acquire a loan of more than $1,000 from a loan company. Depending on the credit history, borrowers can choose between 90 days to a 72-month repayment plan to make it a more flexible term for its customers.   Features and services offered: Information Security CashUSA protects all user information using cutting-edge, modern encryption methods. This covers both financial and personal data. Also, the site is tested every day to make sure that there are no weaknesses in the system.   Quick Application Procedure Working with CashUSA is much faster than dealing with a regular bank. You may also expect the funds to be sent into your account the next business day after you accept a loan offer.   Online or AutoPay payments Users have the option of setting up automatic payments. The site will automatically deduct monthly loan payments from the user's bank account. This prevents the borrower from missing payments and going into default.   Pros   Extremely extensive lending community.  Extra learning resources are made available.  Repaying a loan is simple and convenient.  All user data is kept private and protected within the system.   Cons    Some lenders demand hefty rates on bad-credit loans.  Loan amounts greater than $10,000 are not available.   What makes these the top loan companies for bad credit? Before finalizing the list, the following common aspects of the online companies for bad credit loans were considered.   Lending Transparency While shortlisting the online loan providers mentioned above, companies with transparent lending procedures were given preference.. These companies offer processes where the borrowers will know clearly all aspects of the loans, including interest rates, repayment periods, fees and charges. You’ll be fully aware of what you are getting into and there are no surprises.   Simple Application Process In the event of an unforeseen financial crisis, it is often critical to quickly locate a means of securing a financial lifeline. Hence, the amount of time it takes for each of the five online lenders mentioned above to make a final decision on a loan application was also taken under consideration.. All of them had the simplest, shortest application and loan approval procedures.   Data Privacy Unfortunately, not all reputable online lending services can be trusted. While shortlisting the final five online lenders, several businesses were eliminated from consideration because they do not provide enough protection for their customers' private data. The websites on this list, on the other hand, can ensure your privacy is protected.   Terms and Conditions The lending terms were another major criteria that was carefully examined while comparing the loan amounts offered by these companies. There are lenders with these companies who only provide loans for short periods of time with lower interest rates, such as two or three years. Some even offer personal loans for longer terms, up to seven years, which are also considered best for bad creditors. However, repayment periods might differ substantially depending on variables, including the sort of loan you are asking for, your credit history, and the lender you choose. Before agreeing to any of the conditions, make sure you read them in their entirety.   Approval Time The length of time required for approval was also a consideration. Given the urgency of the situation, the companies with the quickest feasible approval for these loans are mentioned here. The loan approval procedure on the sites stated above takes no more than one business day and can be finalized in as little as a few hours if everything goes properly.   Loan Amounts When analyzing these five businesses, careful consideration was also made for the loan amounts they offer, to ensure that they cover a wide range of money needs. The top shortlisted lenders mentioned here offer standard loan amounts ranging from $2,500 to $50,000.   Customer Rating A lot of effort was put in with regards to learning every nuance of these services and customer feedback was crucial to this process. While shortlisting the top online lender, companies with the most positive feedback were given preference. We also cross referenced the customer feedback with the scores on the Consumer Financial Protection Bureau.. How to choose an easy approval loan for bad credit?  Prior to making a final decision on a bad credit loan, there are a few things to think about. Take into account the following before submitting an online application for a loan.   Loan Amounts The amount of money available for a loan may be the first consideration for many borrowers. Look into the amounts of loans offered by different sites and pick one according to your needs.   Interest Rates If you take out a loan, the interest rate will decide how much you will have to pay back each month in addition to the principal. Compare the APR offered by different lenders and choose the lowest rate for your loan.   Terms and Conditions After applying for a loan and receiving an offer, the terms and conditions should be given your full attention. If your financial position is strong with a steady monthly income, select a minimum term with the lowest APR offered. If you think the other way, select the maximum term of loan with minimum monthly payment, if feasible for you.   Additional Charges All of the above-mentioned online loan marketplaces come at zero cost to you. However, to be on safer side, you need to consider additional costs (not always the case) for things like transaction processing, late payments, failed checks, and insufficient cash may be incurred.   Valid Backup Plan Having a steady job is a plus in the eyes of most lenders, but the unexpected may always happen. Before even starting borrowing money, you need to consider a valid backup plan for your payment if your primary means of repayment fails.   Is it expensive to get these guaranteed loans for bad credit? The expensiveness of a loan is based on its interest rate. The annual percentage rates of these loans can go above 400% for a maximum available term. That is much higher than the average APR for credit cards, which is often about 30%. This is due to the fact that increased interest rates are one way that lenders safeguard themselves against borrowers who default on their loans.  It is possible to obtain a credit score that is higher than average if you borrow money responsibly and make timely payments. It is in your best interest to keep your credit score as high as possible, as this will ensure you receive the most favorable interest rates.   Final Thoughts The best options for getting a loan online even if you have a low credit score are those that we have highlighted above. All of the above bad credit loan services that we have examined here have near 100% approval rate with no hard credit checks. Therefore, if you find yourself in need of immediate financial assistance but have a low credit score, you should not hesitate to contact any of the aforementioned companies.   Disclaimer- The above content is non-editorial, and Economic Times hereby disclaims any and all warranties, expressed or implied, relating to it, and does not guarantee, vouch for or necessarily endorse any of the content.  \",\n",
       "\t\t\t  \n",
       "\t\t\t  \"image\": {\n",
       "\t\t\t    \"@type\": \"ImageObject\",\n",
       "\t\t\t    \"url\": \"https://img.etimg.com/thumb/msid-93776945,width-640,height-480,imgsize-20820,overlay-etwealth/photo.jpg\",\n",
       "\t\t\t    \"height\": 480,\n",
       "\t\t\t    \"width\": 640\n",
       "\t\t\t  },\n",
       "\t\t\t  \"author\": {\n",
       "\t\t\t    \"@type\": \"Thing\",\n",
       "\t\t\t    \"name\": \"ET Spotlight\"\n",
       "\t\t\t  },\n",
       "\t\t\t  \"publisher\": {\n",
       "\t\t\t  \t\"@type\": \"NewsMediaOrganization\",\n",
       "\t\t\t    \"name\": \"Economic Times\",\n",
       "\t\t\t    \"logo\": {\n",
       "\t\t\t      \"@type\": \"ImageObject\",\n",
       "\t\t\t      \"url\": \"https://img.etimg.com/thumb/msid-76939477,width-600,height-60,quality-100/economictimes.jpg\",\n",
       "\t\t\t      \"width\": 600,\n",
       "\t\t\t      \"height\": 60\n",
       "\t\t\t    }\n",
       "\t\t\t  }\n",
       "\t\t\t  \n",
       "\t\t\t  }</script>"
      ]
     },
     "execution_count": 13,
     "metadata": {},
     "output_type": "execute_result"
    }
   ],
   "source": [
    "need=article[1]\n",
    "need"
   ]
  },
  {
   "cell_type": "code",
   "execution_count": 15,
   "id": "bd6f38ce",
   "metadata": {},
   "outputs": [
    {
     "data": {
      "text/plain": [
       "'Last Updated: Aug 29, 2022, 12:56 PM IST'"
      ]
     },
     "execution_count": 15,
     "metadata": {},
     "output_type": "execute_result"
    }
   ],
   "source": [
    "#get date/time \n",
    "date=soup.find(\"time\").text\n",
    "date"
   ]
  },
  {
   "cell_type": "code",
   "execution_count": 16,
   "id": "641099e6",
   "metadata": {},
   "outputs": [
    {
     "data": {
      "text/plain": [
       "'Skip the time-consuming and difficult procedure of getting a loan and opt for these top bad credit loans for guaranteed approval. Read to know more'"
      ]
     },
     "execution_count": 16,
     "metadata": {},
     "output_type": "execute_result"
    }
   ],
   "source": [
    "#get synopsis/description\n",
    "synopsis=soup.find('h2',class_=\"summary\").text\n",
    "synopsis"
   ]
  },
  {
   "cell_type": "code",
   "execution_count": 17,
   "id": "875bebd3",
   "metadata": {},
   "outputs": [
    {
     "data": {
      "text/plain": [
       "'borrow'"
      ]
     },
     "execution_count": 17,
     "metadata": {},
     "output_type": "execute_result"
    }
   ],
   "source": [
    "#get category/sector\n",
    "url.rsplit('/')[4:6][0]"
   ]
  },
  {
   "cell_type": "code",
   "execution_count": null,
   "id": "93f132a1",
   "metadata": {},
   "outputs": [],
   "source": []
  }
 ],
 "metadata": {
  "kernelspec": {
   "display_name": "Python 3 (ipykernel)",
   "language": "python",
   "name": "python3"
  },
  "language_info": {
   "codemirror_mode": {
    "name": "ipython",
    "version": 3
   },
   "file_extension": ".py",
   "mimetype": "text/x-python",
   "name": "python",
   "nbconvert_exporter": "python",
   "pygments_lexer": "ipython3",
   "version": "3.9.7"
  }
 },
 "nbformat": 4,
 "nbformat_minor": 5
}
